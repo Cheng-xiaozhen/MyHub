{
 "cells": [
  {
   "cell_type": "markdown",
   "id": "031543b1",
   "metadata": {},
   "source": [
    "# 1. 提取GenImage数据集"
   ]
  },
  {
   "cell_type": "code",
   "execution_count": 1,
   "id": "ed0893fe",
   "metadata": {},
   "outputs": [],
   "source": [
    "import os\n",
    "import json\n",
    "from pathlib import Path"
   ]
  },
  {
   "cell_type": "code",
   "execution_count": 34,
   "id": "92abc84f",
   "metadata": {},
   "outputs": [],
   "source": [
    "au_path = \"/home/censoring/GenImage/ADM/imagenet_ai_0508_adm/val/nature\"\n",
    "tp_path = \"/home/censoring/GenImage/ADM/imagenet_ai_0508_adm/val/ai\"\n",
    "json_list = []\n",
    "img_exts = {\".jpg\", \".png\", \".bmp\", \".tif\", \".tiff\",\".jpeg\"}"
   ]
  },
  {
   "cell_type": "code",
   "execution_count": 35,
   "id": "9acde856",
   "metadata": {},
   "outputs": [
    {
     "name": "stdout",
     "output_type": "stream",
     "text": [
      "Total images: 12000\n"
     ]
    }
   ],
   "source": [
    "for p in Path(au_path).glob(\"*\"):\n",
    "    if p.suffix.lower() in img_exts:\n",
    "        json_list.append({\n",
    "            \"path\": str(p),\n",
    "            \"label\": 0\n",
    "        })\n",
    "for p in Path(tp_path).glob(\"*\"):\n",
    "    if p.suffix.lower() in img_exts:\n",
    "        json_list.append({\n",
    "            \"path\": str(p),\n",
    "            \"label\": 1\n",
    "        })\n",
    "print(f\"Total images: {len(json_list)}\")\n"
   ]
  },
  {
   "cell_type": "code",
   "execution_count": 36,
   "id": "5c09ef42",
   "metadata": {},
   "outputs": [
    {
     "data": {
      "text/plain": [
       "[{'path': '/home/censoring/GenImage/ADM/imagenet_ai_0508_adm/val/nature/ILSVRC2012_val_00018240.JPEG',\n",
       "  'label': 0},\n",
       " {'path': '/home/censoring/GenImage/ADM/imagenet_ai_0508_adm/val/nature/ILSVRC2012_val_00046013.JPEG',\n",
       "  'label': 0},\n",
       " {'path': '/home/censoring/GenImage/ADM/imagenet_ai_0508_adm/val/nature/ILSVRC2012_val_00017957.JPEG',\n",
       "  'label': 0}]"
      ]
     },
     "execution_count": 36,
     "metadata": {},
     "output_type": "execute_result"
    }
   ],
   "source": [
    "json_list[:3]"
   ]
  },
  {
   "cell_type": "code",
   "execution_count": 37,
   "id": "5c058239",
   "metadata": {},
   "outputs": [
    {
     "name": "stdout",
     "output_type": "stream",
     "text": [
      "JSON file saved to GenImage_ADM.json\n"
     ]
    }
   ],
   "source": [
    "output_file = \"GenImage_ADM.json\"\n",
    "with open(output_file, \"w\") as f:\n",
    "    json.dump(json_list, f, indent=4)\n",
    "print(f\"JSON file saved to {output_file}\")"
   ]
  },
  {
   "cell_type": "markdown",
   "id": "b582e8dd",
   "metadata": {},
   "source": [
    "# 2. 提取faceforensic数据集"
   ]
  },
  {
   "cell_type": "code",
   "execution_count": 1,
   "id": "8e62d7c0",
   "metadata": {},
   "outputs": [],
   "source": [
    "import json\n",
    "import os"
   ]
  },
  {
   "cell_type": "code",
   "execution_count": 2,
   "id": "572a058a",
   "metadata": {},
   "outputs": [],
   "source": [
    "ff_json = \"/home/chengxiaozhen/Test/ForensicHub/DeepfakeBench/DeepfakeBench/preprocessing/dataset_json/FaceForensics++.json\"\n",
    "\n",
    "with open(ff_json,\"r\",encoding=\"utf-8\") as f:\n",
    "    ff_data = json.load(f)\n"
   ]
  },
  {
   "cell_type": "code",
   "execution_count": 3,
   "id": "6a490821",
   "metadata": {},
   "outputs": [],
   "source": [
    "base_dir = \"/home/chengxiaozhen/Test/ForensicHub/DeepfakeBench/datasets/rgb\"\n",
    "def collect_frames(node):\n",
    "    results = []\n",
    "    if isinstance(node,dict):\n",
    "        for k,v in node.items():\n",
    "            if k == \"frames\" and isinstance(v,list):\n",
    "                for frame in v:\n",
    "                    results.append(os.path.join(base_dir,frame))\n",
    "            else:\n",
    "                results.extend(collect_frames(v))\n",
    "    elif isinstance(node,list):\n",
    "        for item in node:\n",
    "            results.extend(collect_frames(item))\n",
    "    return results\n",
    "\n",
    "\n",
    "def extract_split(data,subset_key,split):\n",
    "    root = data.get(\"FaceForensics++\")\n",
    "    if not isinstance(root,dict):\n",
    "        raise KeyError(\"Invalid JSON structure: 'FaceForensics++' key not found or is not a dictionary.\")\n",
    "    subset = root.get(subset_key)\n",
    "    split_dict = subset.get(split,{}) or {}\n",
    "    return collect_frames(split_dict)"
   ]
  },
  {
   "cell_type": "code",
   "execution_count": 4,
   "id": "db39f50e",
   "metadata": {},
   "outputs": [],
   "source": [
    "ff_real = extract_split(ff_data,subset_key=\"FF-real\",split=\"test\")\n"
   ]
  },
  {
   "cell_type": "code",
   "execution_count": 5,
   "id": "f74a2ec8",
   "metadata": {},
   "outputs": [
    {
     "data": {
      "text/plain": [
       "['/home/chengxiaozhen/Test/ForensicHub/DeepfakeBench/datasets/rgb/FaceForensics++/original_sequences/youtube/c23/frames/000/000.png',\n",
       " '/home/chengxiaozhen/Test/ForensicHub/DeepfakeBench/datasets/rgb/FaceForensics++/original_sequences/youtube/c23/frames/000/012.png',\n",
       " '/home/chengxiaozhen/Test/ForensicHub/DeepfakeBench/datasets/rgb/FaceForensics++/original_sequences/youtube/c23/frames/000/025.png',\n",
       " '/home/chengxiaozhen/Test/ForensicHub/DeepfakeBench/datasets/rgb/FaceForensics++/original_sequences/youtube/c23/frames/000/038.png',\n",
       " '/home/chengxiaozhen/Test/ForensicHub/DeepfakeBench/datasets/rgb/FaceForensics++/original_sequences/youtube/c23/frames/000/050.png']"
      ]
     },
     "execution_count": 5,
     "metadata": {},
     "output_type": "execute_result"
    }
   ],
   "source": [
    "ff_real[:5]"
   ]
  },
  {
   "cell_type": "code",
   "execution_count": 6,
   "id": "f48813bb",
   "metadata": {},
   "outputs": [],
   "source": [
    "ff_df = extract_split(ff_data,subset_key=\"FF-DF\",split=\"test\")\n",
    "ff_f2f = extract_split(ff_data,subset_key=\"FF-F2F\",split=\"test\")\n",
    "ff_fs = extract_split(ff_data,subset_key=\"FF-FS\",split=\"test\")\n",
    "ff_nt = extract_split(ff_data,subset_key=\"FF-NT\",split=\"test\")\n"
   ]
  },
  {
   "cell_type": "code",
   "execution_count": 7,
   "id": "86ed6d8f",
   "metadata": {},
   "outputs": [
    {
     "data": {
      "text/plain": [
       "['/home/chengxiaozhen/Test/ForensicHub/DeepfakeBench/datasets/rgb/FaceForensics++/manipulated_sequences/Deepfakes/c23/frames/000_003/000.png',\n",
       " '/home/chengxiaozhen/Test/ForensicHub/DeepfakeBench/datasets/rgb/FaceForensics++/manipulated_sequences/Deepfakes/c23/frames/000_003/012.png']"
      ]
     },
     "execution_count": 7,
     "metadata": {},
     "output_type": "execute_result"
    }
   ],
   "source": [
    "ff_df[:2]"
   ]
  },
  {
   "cell_type": "code",
   "execution_count": 8,
   "id": "c1d87c35",
   "metadata": {},
   "outputs": [
    {
     "name": "stdout",
     "output_type": "stream",
     "text": [
      "JSON file saved to FaceForensics++.json\n"
     ]
    }
   ],
   "source": [
    "json_output = []\n",
    "\n",
    "for path in ff_real:\n",
    "    json_output.append({\n",
    "        \"path\": path,\n",
    "        \"label\": 0\n",
    "    })\n",
    "\n",
    "for path in ff_df:\n",
    "    json_output.append({\n",
    "        \"path\": path,\n",
    "        \"label\": 1\n",
    "    })\n",
    "for path in ff_f2f:\n",
    "    json_output.append({\n",
    "        \"path\": path,\n",
    "        \"label\": 1\n",
    "    })\n",
    "for path in ff_fs:\n",
    "    json_output.append({\n",
    "        \"path\": path,\n",
    "        \"label\": 1\n",
    "    })\n",
    "for path in ff_nt:\n",
    "    json_output.append({\n",
    "        \"path\": path,\n",
    "        \"label\": 1\n",
    "    })\n",
    "output_file = \"FaceForensics++.json\"\n",
    "with open(output_file, \"w\") as f:\n",
    "    json.dump(json_output, f, indent=4)\n",
    "print(f\"JSON file saved to {output_file}\")"
   ]
  }
 ],
 "metadata": {
  "kernelspec": {
   "display_name": "forensichub2",
   "language": "python",
   "name": "python3"
  },
  "language_info": {
   "codemirror_mode": {
    "name": "ipython",
    "version": 3
   },
   "file_extension": ".py",
   "mimetype": "text/x-python",
   "name": "python",
   "nbconvert_exporter": "python",
   "pygments_lexer": "ipython3",
   "version": "3.10.18"
  }
 },
 "nbformat": 4,
 "nbformat_minor": 5
}
