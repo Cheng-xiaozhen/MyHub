{
 "cells": [
  {
   "cell_type": "code",
   "execution_count": 1,
   "id": "436d7e91",
   "metadata": {},
   "outputs": [
    {
     "name": "stderr",
     "output_type": "stream",
     "text": [
      "/home/chengxiaozhen/anaconda3/envs/forensichub2/lib/python3.10/site-packages/tqdm/auto.py:21: TqdmWarning: IProgress not found. Please update jupyter and ipywidgets. See https://ipywidgets.readthedocs.io/en/stable/user_install.html\n",
      "  from .autonotebook import tqdm as notebook_tqdm\n"
     ]
    },
    {
     "name": "stdout",
     "output_type": "stream",
     "text": [
      "2.1.2\n",
      "Current Torch version: 2.1\n"
     ]
    }
   ],
   "source": [
    "import os\n",
    "import sys\n",
    "# 将项目根目录（MyHub）的父目录添加到系统路径中\n",
    "# 这使得 'MyHub' 本身可以被当作一个包来导入\n",
    "project_root = os.path.abspath(os.path.join(os.getcwd(), '../..'))\n",
    "if project_root not in sys.path:\n",
    "    sys.path.insert(0, project_root)\n",
    "\n",
    "import json\n",
    "import time\n",
    "import argparse\n",
    "import datetime\n",
    "import numpy as np\n",
    "from pathlib import Path\n",
    "import timm.optim.optim_factory as optim_factory\n",
    "from torch.utils.tensorboard.writer import SummaryWriter\n",
    "\n",
    "from MyHub.core.registry import DATASETS, MODELS, POSTFUNCS, TRANSFORMS, EVALUATORS, build_from_registry\n",
    "from MyHub.training_scripts.utils import misc\n",
    "from MyHub.training_scripts.utils.yaml import load_yaml_config,split_config, add_attr\n",
    "from MyHub.training_scripts.trainer import train_one_epoch\n",
    "from MyHub.training_scripts.tester import test_one_epoch"
   ]
  },
  {
   "cell_type": "code",
   "execution_count": 2,
   "id": "3a481dee",
   "metadata": {},
   "outputs": [],
   "source": [
    "parser = argparse.ArgumentParser(description='Training Script')\n",
    "parser.add_argument('--config', default='config/resnet_train.yaml', help='path to config file', type=str)\n",
    "\n",
    "args = parser.parse_args(['--config', '/home/chengxiaozhen/Test/ForensicHub/MyHub/config/resnet_train.yaml'])\n",
    "\n",
    "config = load_yaml_config(args.config)\n",
    "args, model_args, train_dataset_args, test_dataset_args, transform_args, evaluator_args = split_config(config)\n",
    "add_attr(args,output_dir=args.log_dir)\n",
    "add_attr(args,if_not_amp=not args.use_amp)\n",
    "\n",
    "if not os.path.exists(args.output_dir):\n",
    "    os.makedirs(args.output_dir, exist_ok=True)"
   ]
  },
  {
   "cell_type": "code",
   "execution_count": 3,
   "id": "45f42f60",
   "metadata": {},
   "outputs": [
    {
     "name": "stdout",
     "output_type": "stream",
     "text": [
      "Config loaded:\n",
      "args: Namespace(gpus='0,1,2,3', flag='train', log_dir='./log/resnet_train', if_predict_label=True, if_predict_mask=False, batch_size=512, test_batch_size=128, epochs=20, accum_iter=1, record_epoch=20, no_model_eval=False, test_period=1, log_per_epoch_count=20, find_unused_parameters=True, use_amp=True, weight_decay=0.05, lr=0.0001, blr=0.001, min_lr=1e-05, warmup_epochs=1, device='cuda', seed=42, resume='', start_epoch=0, num_workers=8, pin_mem=True, world_size=1, local_rank=-1, dist_on_itp=False, dist_url='env://', output_dir='./log/resnet_train', if_not_amp=False)\n",
      "model_args: {'name': 'Resnet101', 'init_config': {'output_type': 'label', 'image_size': 256}}\n",
      "train_dataset_args: {'name': 'CrossDataset', 'dataset_name': 'CrossDataset', 'init_config': {'dataset_config': [{'name': 'IMDLCrossDataset', 'pic_nums': 12641, 'init_config': {'image_size': 256, 'path': '/mnt/data0/public_datasets/IML/CASIAv2_with_label.json'}}, {'name': 'AIGCCrossDataset', 'pic_nums': 12641, 'init_config': {'image_size': 256, 'path': ['/mnt/data3/public_datasets/AIGC/GenImage/ADM_train.json', '/mnt/data3/public_datasets/AIGC/GenImage/BigGAN_train.json', '/mnt/data3/public_datasets/AIGC/GenImage/glide_train.json', '/mnt/data3/public_datasets/AIGC/GenImage/Midjourney_train.json', '/mnt/data3/public_datasets/AIGC/GenImage/stable_diffusion_v_1_4_train.json', '/mnt/data3/public_datasets/AIGC/GenImage/stable_diffusion_v_1_5_train.json', '/mnt/data3/public_datasets/AIGC/GenImage/VQDM_train.json', '/mnt/data3/public_datasets/AIGC/GenImage/wukong_train.json']}}, {'name': 'DeepfakeCrossDataset', 'pic_nums': 12641, 'init_config': {'image_size': 256, 'path': '/mnt/data1/public_datasets/Deepfake', 'config_file': '/mnt/data1/public_datasets/Deepfake/FaceForensics++.json'}}]}}\n",
      "test_dataset_args: [{'name': 'JsonDataset', 'dataset_name': 'IMD2020', 'init_config': {'image_size': 256, 'path': '/mnt/data0/public_datasets/IML/IMD_20_1024_full.json', 'is_resizing': True, 'is_padding': False}}, {'name': 'AIGCLabelDataset', 'dataset_name': 'DiffusionForensics_test', 'init_config': {'image_size': 256, 'path': '/mnt/data3/public_datasets/AIGC/DiffusionForensics/images/test.json'}}, {'name': 'DocumentCrossDataset', 'dataset_name': 'OSTF_test', 'init_config': {'image_size': 256, 'path': ['/mnt/data1/public_datasets/Doc/cutted_datasets_alls/OSTF_test']}}, {'name': 'DeepfakeCrossDataset', 'dataset_name': 'FF-DF_test', 'init_config': {'image_size': 256, 'path': '/mnt/data1/public_datasets/Deepfake', 'config_file': '/mnt/data1/public_datasets/Deepfake/FF-DF.json', 'split_mode': 'test'}}]\n",
      "transform_args: {'name': 'AIGCTransform', 'init_config': {}}\n",
      "evaluator_args: [{'name': 'ImageF1', 'init_config': {'threshold': 0.5}}]\n"
     ]
    }
   ],
   "source": [
    "print(\"Config loaded:\")\n",
    "print(\"args:\", args)\n",
    "print(\"model_args:\", model_args)\n",
    "print(\"train_dataset_args:\", train_dataset_args)\n",
    "print(\"test_dataset_args:\", test_dataset_args)\n",
    "print(\"transform_args:\", transform_args)\n",
    "print(\"evaluator_args:\", evaluator_args)"
   ]
  },
  {
   "cell_type": "code",
   "execution_count": null,
   "id": "9c32fc19",
   "metadata": {},
   "outputs": [],
   "source": []
  }
 ],
 "metadata": {
  "kernelspec": {
   "display_name": "forensichub2",
   "language": "python",
   "name": "python3"
  },
  "language_info": {
   "codemirror_mode": {
    "name": "ipython",
    "version": 3
   },
   "file_extension": ".py",
   "mimetype": "text/x-python",
   "name": "python",
   "nbconvert_exporter": "python",
   "pygments_lexer": "ipython3",
   "version": "3.10.18"
  }
 },
 "nbformat": 4,
 "nbformat_minor": 5
}
