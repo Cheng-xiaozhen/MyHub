{
 "cells": [
  {
   "cell_type": "code",
   "execution_count": 1,
   "id": "436d7e91",
   "metadata": {},
   "outputs": [
    {
     "name": "stderr",
     "output_type": "stream",
     "text": [
      "/home/chengxiaozhen/anaconda3/envs/forensichub2/lib/python3.10/site-packages/tqdm/auto.py:21: TqdmWarning: IProgress not found. Please update jupyter and ipywidgets. See https://ipywidgets.readthedocs.io/en/stable/user_install.html\n",
      "  from .autonotebook import tqdm as notebook_tqdm\n"
     ]
    },
    {
     "name": "stdout",
     "output_type": "stream",
     "text": [
      "2.1.2\n",
      "Current Torch version: 2.1\n"
     ]
    }
   ],
   "source": [
    "import os\n",
    "import sys\n",
    "# 将项目根目录（MyHub）的父目录添加到系统路径中\n",
    "# 这使得 'MyHub' 本身可以被当作一个包来导入\n",
    "project_root = os.path.abspath(os.path.join(os.getcwd(), '../..'))\n",
    "if project_root not in sys.path:\n",
    "    sys.path.insert(0, project_root)\n",
    "\n",
    "import json\n",
    "import time\n",
    "import argparse\n",
    "import datetime\n",
    "import numpy as np\n",
    "from pathlib import Path\n",
    "import timm.optim.optim_factory as optim_factory\n",
    "from torch.utils.tensorboard.writer import SummaryWriter\n",
    "\n",
    "from MyHub.core.registry import DATASETS, MODELS, POSTFUNCS, TRANSFORMS, EVALUATORS, build_from_registry\n",
    "from MyHub.training_scripts.utils import misc\n",
    "from MyHub.training_scripts.utils.yaml import load_yaml_config,split_config, add_attr\n",
    "from MyHub.training_scripts.trainer import train_one_epoch\n",
    "from MyHub.training_scripts.tester import test_one_epoch"
   ]
  },
  {
   "cell_type": "code",
   "execution_count": 2,
   "id": "3a481dee",
   "metadata": {},
   "outputs": [],
   "source": [
    "parser = argparse.ArgumentParser(description='Training Script')\n",
    "parser.add_argument('--config', default='config/resnet_train.yaml', help='path to config file', type=str)\n",
    "\n",
    "args = parser.parse_args(['--config', '/home/chengxiaozhen/Test/ForensicHub/MyHub/config/resnet_train.yaml'])\n",
    "\n",
    "config = load_yaml_config(args.config)\n",
    "args, model_args, train_dataset_args, test_dataset_args, transform_args, evaluator_args = split_config(config)\n",
    "add_attr(args,output_dir=args.log_dir)\n",
    "add_attr(args,if_not_amp=not args.use_amp)\n",
    "\n",
    "if not os.path.exists(args.output_dir):\n",
    "    os.makedirs(args.output_dir, exist_ok=True)"
   ]
  },
  {
   "cell_type": "code",
   "execution_count": 6,
   "id": "3c40183b",
   "metadata": {},
   "outputs": [
    {
     "name": "stdout",
     "output_type": "stream",
     "text": [
      "[Lazy import] 从MyHub.common.transforms.CrossTransform 加载 CrossTransform\n",
      "[build_from_registry] 创建模型 'CrossTransform' 参数: {}\n"
     ]
    }
   ],
   "source": [
    "transform = build_from_registry(TRANSFORMS, transform_args)\n",
    "train_transform = transform.get_train_transform()\n",
    "test_transform = transform.get_test_transform()\n",
    "post_transform = transform.get_post_transform()\n",
    "# print(\"Train transform: \", train_transform)\n",
    "# print(\"Test transform: \", test_transform)\n",
    "# print(\"Post transform: \", post_transform)"
   ]
  },
  {
   "cell_type": "code",
   "execution_count": 4,
   "id": "f3c25ff9",
   "metadata": {},
   "outputs": [
    {
     "name": "stdout",
     "output_type": "stream",
     "text": [
      "Post function check: resnet101_post_func\n",
      "None\n"
     ]
    }
   ],
   "source": [
    " # get post function (if have)\n",
    "post_function_name = f\"{model_args['name']}_post_func\".lower()\n",
    "if model_args.get('post_func_name') is not None:\n",
    "    post_function_name = f\"{model_args['post_func_name']}_post_func\".lower()\n",
    "print(f\"Post function check: {post_function_name}\")\n",
    "if POSTFUNCS.has(post_function_name):\n",
    "    post_function = POSTFUNCS.get(post_function_name)\n",
    "else:\n",
    "    post_function = None\n",
    "print(post_function)"
   ]
  },
  {
   "cell_type": "code",
   "execution_count": 7,
   "id": "cfefee40",
   "metadata": {},
   "outputs": [
    {
     "name": "stdout",
     "output_type": "stream",
     "text": [
      "[Lazy import] 从MyHub.common.datasets.CrossDataset 加载 CrossDataset\n",
      "[build_from_registry] 创建模型 'CrossDataset' 参数: {'dataset_config': [{'name': 'LabelDataset', 'pic_nums': 12641, 'init_config': {'image_size': 256, 'path': '/home/chengxiaozhen/Test/ForensicHub/MyHub/data/train_data/CASIAv2.json'}}, {'name': 'LabelDataset', 'pic_nums': 12641, 'init_config': {'image_size': 256, 'path': ['/home/chengxiaozhen/Test/ForensicHub/MyHub/data/train_data/GenImage_ADM.json', '/home/chengxiaozhen/Test/ForensicHub/MyHub/data/train_data/GenImage_BigGAN.json', '/home/chengxiaozhen/Test/ForensicHub/MyHub/data/train_data/GenImage_glide.json', '/home/chengxiaozhen/Test/ForensicHub/MyHub/data/train_data/GenImage_Midjourney.json', '/home/chengxiaozhen/Test/ForensicHub/MyHub/data/train_data/GenImage_stable_diffusion_v_1_4.json', '/home/chengxiaozhen/Test/ForensicHub/MyHub/data/train_data/GenImage_stable_diffusion_v_1_5.json', '/home/chengxiaozhen/Test/ForensicHub/MyHub/data/train_data/GenImage_VQDM.json', '/home/chengxiaozhen/Test/ForensicHub/MyHub/data/train_data/GenImage_wukong.json']}}, {'name': 'LabelDataset', 'pic_nums': 12641, 'init_config': {'image_size': 256, 'path': '/home/chengxiaozhen/Test/ForensicHub/MyHub/data/train_data/FaceForensics++.json'}}], 'post_funcs': None, 'common_transform': Compose([\n",
      "  HorizontalFlip(always_apply=False, p=0.5),\n",
      "  VerticalFlip(always_apply=False, p=0.5),\n",
      "  RandomBrightnessContrast(always_apply=False, p=1, brightness_limit=(-0.1, 0.1), contrast_limit=(-0.1, 0.1), brightness_by_max=True),\n",
      "  ImageCompression(always_apply=False, p=0.2, quality_lower=70, quality_upper=100, compression_type=0),\n",
      "  RandomRotate90(always_apply=False, p=0.5),\n",
      "  GaussianBlur(always_apply=False, p=0.2, blur_limit=(3, 7), sigma_limit=(0, 0)),\n",
      "], p=1.0, bbox_params=None, keypoint_params=None, additional_targets={}), 'post_transform': Compose([\n",
      "  Normalize(always_apply=False, p=1.0, mean=[0.485, 0.456, 0.406], std=[0.229, 0.224, 0.225], max_pixel_value=255.0),\n",
      "  ToTensorV2(always_apply=True, p=1.0, transpose_mask=True),\n",
      "], p=1.0, bbox_params=None, keypoint_params=None, additional_targets={})}\n",
      "[build_from_registry] 创建模型 'LabelDataset' 参数: {'image_size': 256, 'path': '/home/chengxiaozhen/Test/ForensicHub/MyHub/data/train_data/CASIAv2.json', 'common_transform': Compose([\n",
      "  HorizontalFlip(always_apply=False, p=0.5),\n",
      "  VerticalFlip(always_apply=False, p=0.5),\n",
      "  RandomBrightnessContrast(always_apply=False, p=1, brightness_limit=(-0.1, 0.1), contrast_limit=(-0.1, 0.1), brightness_by_max=True),\n",
      "  ImageCompression(always_apply=False, p=0.2, quality_lower=70, quality_upper=100, compression_type=0),\n",
      "  RandomRotate90(always_apply=False, p=0.5),\n",
      "  GaussianBlur(always_apply=False, p=0.2, blur_limit=(3, 7), sigma_limit=(0, 0)),\n",
      "], p=1.0, bbox_params=None, keypoint_params=None, additional_targets={}), 'post_transform': Compose([\n",
      "  Normalize(always_apply=False, p=1.0, mean=[0.485, 0.456, 0.406], std=[0.229, 0.224, 0.225], max_pixel_value=255.0),\n",
      "  ToTensorV2(always_apply=True, p=1.0, transpose_mask=True),\n",
      "], p=1.0, bbox_params=None, keypoint_params=None, additional_targets={}), 'post_funcs': None}\n",
      "[build_from_registry] 创建模型 'LabelDataset' 参数: {'image_size': 256, 'path': ['/home/chengxiaozhen/Test/ForensicHub/MyHub/data/train_data/GenImage_ADM.json', '/home/chengxiaozhen/Test/ForensicHub/MyHub/data/train_data/GenImage_BigGAN.json', '/home/chengxiaozhen/Test/ForensicHub/MyHub/data/train_data/GenImage_glide.json', '/home/chengxiaozhen/Test/ForensicHub/MyHub/data/train_data/GenImage_Midjourney.json', '/home/chengxiaozhen/Test/ForensicHub/MyHub/data/train_data/GenImage_stable_diffusion_v_1_4.json', '/home/chengxiaozhen/Test/ForensicHub/MyHub/data/train_data/GenImage_stable_diffusion_v_1_5.json', '/home/chengxiaozhen/Test/ForensicHub/MyHub/data/train_data/GenImage_VQDM.json', '/home/chengxiaozhen/Test/ForensicHub/MyHub/data/train_data/GenImage_wukong.json'], 'common_transform': Compose([\n",
      "  HorizontalFlip(always_apply=False, p=0.5),\n",
      "  VerticalFlip(always_apply=False, p=0.5),\n",
      "  RandomBrightnessContrast(always_apply=False, p=1, brightness_limit=(-0.1, 0.1), contrast_limit=(-0.1, 0.1), brightness_by_max=True),\n",
      "  ImageCompression(always_apply=False, p=0.2, quality_lower=70, quality_upper=100, compression_type=0),\n",
      "  RandomRotate90(always_apply=False, p=0.5),\n",
      "  GaussianBlur(always_apply=False, p=0.2, blur_limit=(3, 7), sigma_limit=(0, 0)),\n",
      "], p=1.0, bbox_params=None, keypoint_params=None, additional_targets={}), 'post_transform': Compose([\n",
      "  Normalize(always_apply=False, p=1.0, mean=[0.485, 0.456, 0.406], std=[0.229, 0.224, 0.225], max_pixel_value=255.0),\n",
      "  ToTensorV2(always_apply=True, p=1.0, transpose_mask=True),\n",
      "], p=1.0, bbox_params=None, keypoint_params=None, additional_targets={}), 'post_funcs': None}\n",
      "[build_from_registry] 创建模型 'LabelDataset' 参数: {'image_size': 256, 'path': '/home/chengxiaozhen/Test/ForensicHub/MyHub/data/train_data/FaceForensics++.json', 'common_transform': Compose([\n",
      "  HorizontalFlip(always_apply=False, p=0.5),\n",
      "  VerticalFlip(always_apply=False, p=0.5),\n",
      "  RandomBrightnessContrast(always_apply=False, p=1, brightness_limit=(-0.1, 0.1), contrast_limit=(-0.1, 0.1), brightness_by_max=True),\n",
      "  ImageCompression(always_apply=False, p=0.2, quality_lower=70, quality_upper=100, compression_type=0),\n",
      "  RandomRotate90(always_apply=False, p=0.5),\n",
      "  GaussianBlur(always_apply=False, p=0.2, blur_limit=(3, 7), sigma_limit=(0, 0)),\n",
      "], p=1.0, bbox_params=None, keypoint_params=None, additional_targets={}), 'post_transform': Compose([\n",
      "  Normalize(always_apply=False, p=1.0, mean=[0.485, 0.456, 0.406], std=[0.229, 0.224, 0.225], max_pixel_value=255.0),\n",
      "  ToTensorV2(always_apply=True, p=1.0, transpose_mask=True),\n",
      "], p=1.0, bbox_params=None, keypoint_params=None, additional_targets={}), 'post_funcs': None}\n",
      "{'image', 'label'}\n"
     ]
    }
   ],
   "source": [
    "train_dataset_args[\"init_config\"].update({\n",
    "        \"post_funcs\": post_function,\n",
    "        \"common_transform\": train_transform,\n",
    "        \"post_transform\": post_transform\n",
    "    })\n",
    "train_dataset = build_from_registry(DATASETS, train_dataset_args)"
   ]
  },
  {
   "cell_type": "code",
   "execution_count": 14,
   "id": "d6ce4d2f",
   "metadata": {},
   "outputs": [
    {
     "name": "stdout",
     "output_type": "stream",
     "text": [
      "LabelDataset from /home/chengxiaozhen/Test/ForensicHub/MyHub/data/train_data/CASIAv2.json\n",
      "Total samples: 12614\n",
      "Label 0 samples (real): 7491\n",
      "Label 1 samples (fake): 5123\n",
      "LabelDataset from /home/chengxiaozhen/Test/ForensicHub/MyHub/data/train_data/GenImage_ADM.json,/home/chengxiaozhen/Test/ForensicHub/MyHub/data/train_data/GenImage_BigGAN.json,/home/chengxiaozhen/Test/ForensicHub/MyHub/data/train_data/GenImage_glide.json,/home/chengxiaozhen/Test/ForensicHub/MyHub/data/train_data/GenImage_Midjourney.json,/home/chengxiaozhen/Test/ForensicHub/MyHub/data/train_data/GenImage_stable_diffusion_v_1_4.json,/home/chengxiaozhen/Test/ForensicHub/MyHub/data/train_data/GenImage_stable_diffusion_v_1_5.json,/home/chengxiaozhen/Test/ForensicHub/MyHub/data/train_data/GenImage_VQDM.json,/home/chengxiaozhen/Test/ForensicHub/MyHub/data/train_data/GenImage_wukong.json\n",
      "Total samples: 2581167\n",
      "Label 0 samples (real): 1281167\n",
      "Label 1 samples (fake): 1300000\n",
      "LabelDataset from /home/chengxiaozhen/Test/ForensicHub/MyHub/data/train_data/FaceForensics++.json\n",
      "Total samples: 114884\n",
      "Label 0 samples (real): 22993\n",
      "Label 1 samples (fake): 91891\n"
     ]
    }
   ],
   "source": [
    "for dataset in train_dataset.datasets:\n",
    "    print(dataset)"
   ]
  },
  {
   "cell_type": "code",
   "execution_count": null,
   "id": "772a4093",
   "metadata": {},
   "outputs": [
    {
     "name": "stdout",
     "output_type": "stream",
     "text": [
      "<class 'dict'>\n"
     ]
    }
   ],
   "source": [
    "config = train_dataset_args['init_config']\n",
    "print(type(config))"
   ]
  },
  {
   "cell_type": "code",
   "execution_count": 24,
   "id": "10eaf765",
   "metadata": {},
   "outputs": [
    {
     "name": "stdout",
     "output_type": "stream",
     "text": [
      "[build_from_registry] 创建模型 'LabelDataset' 参数: {'image_size': 256, 'path': '/home/chengxiaozhen/Test/ForensicHub/MyHub/data/train_data/CASIAv2.json', 'common_transform': Compose([\n",
      "  HorizontalFlip(always_apply=False, p=0.5),\n",
      "  VerticalFlip(always_apply=False, p=0.5),\n",
      "  RandomBrightnessContrast(always_apply=False, p=1, brightness_limit=(-0.1, 0.1), contrast_limit=(-0.1, 0.1), brightness_by_max=True),\n",
      "  ImageCompression(always_apply=False, p=0.2, quality_lower=70, quality_upper=100, compression_type=0),\n",
      "  RandomRotate90(always_apply=False, p=0.5),\n",
      "  GaussianBlur(always_apply=False, p=0.2, blur_limit=(3, 7), sigma_limit=(0, 0)),\n",
      "], p=1.0, bbox_params=None, keypoint_params=None, additional_targets={}), 'post_transform': Compose([\n",
      "  Normalize(always_apply=False, p=1.0, mean=[0.485, 0.456, 0.406], std=[0.229, 0.224, 0.225], max_pixel_value=255.0),\n",
      "  ToTensorV2(always_apply=True, p=1.0, transpose_mask=True),\n",
      "], p=1.0, bbox_params=None, keypoint_params=None, additional_targets={}), 'post_funcs': None}\n"
     ]
    }
   ],
   "source": [
    "labeldataset = build_from_registry(DATASETS, config['dataset_config'][0])"
   ]
  },
  {
   "cell_type": "code",
   "execution_count": 26,
   "id": "77fdb7be",
   "metadata": {},
   "outputs": [
    {
     "data": {
      "text/plain": [
       "256"
      ]
     },
     "execution_count": 26,
     "metadata": {},
     "output_type": "execute_result"
    }
   ],
   "source": [
    "labeldataset.image_size"
   ]
  }
 ],
 "metadata": {
  "kernelspec": {
   "display_name": "forensichub2",
   "language": "python",
   "name": "python3"
  },
  "language_info": {
   "codemirror_mode": {
    "name": "ipython",
    "version": 3
   },
   "file_extension": ".py",
   "mimetype": "text/x-python",
   "name": "python",
   "nbconvert_exporter": "python",
   "pygments_lexer": "ipython3",
   "version": "3.10.18"
  }
 },
 "nbformat": 4,
 "nbformat_minor": 5
}
