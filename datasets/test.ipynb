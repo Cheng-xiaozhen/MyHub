{
 "cells": [
  {
   "cell_type": "code",
   "execution_count": 1,
   "id": "ed0893fe",
   "metadata": {},
   "outputs": [],
   "source": [
    "import os\n",
    "import json\n",
    "from pathlib import Path"
   ]
  },
  {
   "cell_type": "code",
   "execution_count": 38,
   "id": "92abc84f",
   "metadata": {},
   "outputs": [],
   "source": [
    "au_path = \"/home/censoring/GenImage/wukong/imagenet_ai_0424_wukong/train/nature\"\n",
    "tp_path = \"/home/censoring/GenImage/wukong/imagenet_ai_0424_wukong/train/ai\"\n",
    "json_list = []\n",
    "img_exts = {\".jpg\", \".png\", \".bmp\", \".tif\", \".tiff\",\".jpeg\"}"
   ]
  },
  {
   "cell_type": "code",
   "execution_count": 39,
   "id": "9acde856",
   "metadata": {},
   "outputs": [
    {
     "name": "stdout",
     "output_type": "stream",
     "text": [
      "Total images: 322739\n"
     ]
    }
   ],
   "source": [
    "for p in Path(au_path).glob(\"*\"):\n",
    "    if p.suffix.lower() in img_exts:\n",
    "        json_list.append({\n",
    "            \"path\": str(p),\n",
    "            \"label\": 0\n",
    "        })\n",
    "for p in Path(tp_path).glob(\"*\"):\n",
    "    if p.suffix.lower() in img_exts:\n",
    "        json_list.append({\n",
    "            \"path\": str(p),\n",
    "            \"label\": 1\n",
    "        })\n",
    "print(f\"Total images: {len(json_list)}\")\n"
   ]
  },
  {
   "cell_type": "code",
   "execution_count": 40,
   "id": "5c09ef42",
   "metadata": {},
   "outputs": [
    {
     "data": {
      "text/plain": [
       "[{'path': '/home/censoring/GenImage/wukong/imagenet_ai_0424_wukong/train/nature/n03933933_15991.JPEG',\n",
       "  'label': 0},\n",
       " {'path': '/home/censoring/GenImage/wukong/imagenet_ai_0424_wukong/train/nature/n02514041_2994.JPEG',\n",
       "  'label': 0},\n",
       " {'path': '/home/censoring/GenImage/wukong/imagenet_ai_0424_wukong/train/nature/n03337140_19913.JPEG',\n",
       "  'label': 0}]"
      ]
     },
     "execution_count": 40,
     "metadata": {},
     "output_type": "execute_result"
    }
   ],
   "source": [
    "json_list[:3]"
   ]
  },
  {
   "cell_type": "code",
   "execution_count": 42,
   "id": "5c058239",
   "metadata": {},
   "outputs": [
    {
     "name": "stdout",
     "output_type": "stream",
     "text": [
      "JSON file saved to GenImage_wukong.json\n"
     ]
    }
   ],
   "source": [
    "output_file = \"GenImage_wukong.json\"\n",
    "with open(output_file, \"w\") as f:\n",
    "    json.dump(json_list, f, indent=4)\n",
    "print(f\"JSON file saved to {output_file}\")"
   ]
  }
 ],
 "metadata": {
  "kernelspec": {
   "display_name": "forensichub2",
   "language": "python",
   "name": "python3"
  },
  "language_info": {
   "codemirror_mode": {
    "name": "ipython",
    "version": 3
   },
   "file_extension": ".py",
   "mimetype": "text/x-python",
   "name": "python",
   "nbconvert_exporter": "python",
   "pygments_lexer": "ipython3",
   "version": "3.10.18"
  }
 },
 "nbformat": 4,
 "nbformat_minor": 5
}
